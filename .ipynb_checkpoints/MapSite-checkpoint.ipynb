{
 "cells": [
  {
   "cell_type": "code",
   "execution_count": 1,
   "metadata": {},
   "outputs": [],
   "source": [
    "from bokeh.plotting import figure, show, output_file\n",
    "from bokeh.models import HoverTool, ColumnDataSource, WheelZoomTool, TapTool, CustomJS, Range1d, OpenURL\n",
    "from bokeh.models.glyphs import ImageURL"
   ]
  },
  {
   "cell_type": "code",
   "execution_count": 2,
   "metadata": {},
   "outputs": [],
   "source": [
    "xr = 1600\n",
    "yr = 900"
   ]
  },
  {
   "cell_type": "code",
   "execution_count": 3,
   "metadata": {},
   "outputs": [],
   "source": [
    "# About Section\n",
    "about_x = .115 * xr\n",
    "about_y = .850 * yr\n",
    "about_h = .06*yr\n",
    "about_w = .07*xr\n",
    "\n",
    "redwood_x=[i * xr for i in [.035, .046, .022, .26, .236]]\n",
    "redwood_y=[i * yr for i in [.933, .890, .747, .950, .705]]\n",
    "redwood_ar=3.57/7.28 #width/height\n",
    "redwood_h=.125*yr\n",
    "redwood_w= redwood_h * redwood_ar\n",
    "redwood_hs = [redwood_h]*len(redwood_x)\n",
    "redwood_ws = [redwood_w]*len(redwood_x)\n",
    "redwood_urls=[\"assets/images/tall tree.svg\"]*len(redwood_x)\n",
    "\n",
    "# redwood_source = ColumnDataSource(data=dict(\n",
    "#     x=redwood_x,\n",
    "#     y=redwood_y,\n",
    "#     img_urls=redwood_urls,\n",
    "#     oval_x = [(i + (redwood_w/2)) for i in redwood_x],\n",
    "#     oval_y = [(i - (redwood_h/2)) for i in redwood_y]\n",
    "# ))"
   ]
  },
  {
   "cell_type": "code",
   "execution_count": 4,
   "metadata": {},
   "outputs": [
    {
     "name": "stdout",
     "output_type": "stream",
     "text": [
      "55.168269230769226\n",
      "[55.168269230769226, 55.168269230769226, 55.168269230769226, 55.168269230769226, 55.168269230769226]\n"
     ]
    }
   ],
   "source": [
    "print(redwood_w)\n",
    "print(redwood_ws)\n",
    "# print(plant_source.data['w'])"
   ]
  },
  {
   "cell_type": "code",
   "execution_count": 5,
   "metadata": {},
   "outputs": [],
   "source": [
    "# Research Section\n",
    "research_x = .130 * xr\n",
    "research_y = .200 * yr\n",
    "research_h = .06*yr\n",
    "research_w = .09*xr\n",
    "\n",
    "poppy_x=[i * xr for i in [.035, .046, .022, .26, .236]]\n",
    "poppy_y=[i * yr for i in [.33, .22, .40, .20, .09]]\n",
    "poppy_ar=621 / 399 #width/height\n",
    "poppy_h=.05*yr\n",
    "poppy_w= poppy_h * poppy_ar\n",
    "poppy_hs = [poppy_h]*len(poppy_x)\n",
    "poppy_ws = [poppy_w]*len(poppy_x)\n",
    "poppy_urls=[\"assets/images/poppy.svg\"]*len(poppy_x)\n",
    "\n",
    "# poppy_source = ColumnDataSource(data=dict(\n",
    "#     x=poppy_x,\n",
    "#     y=poppy_y,\n",
    "#     h=poppy_hs,\n",
    "#     w=poppy_ws,\n",
    "#     img_urls=poppy_urls,\n",
    "#     oval_x = [(i + (poppy_w/2)) for i in poppy_x],\n",
    "#     oval_y = [(i - (poppy_h/2)) for i in poppy_y]\n",
    "# ))"
   ]
  },
  {
   "cell_type": "code",
   "execution_count": 6,
   "metadata": {},
   "outputs": [],
   "source": [
    "plant_source = ColumnDataSource(data=dict(\n",
    "    x = redwood_x + poppy_x,\n",
    "    y = redwood_y + poppy_y,\n",
    "    h = redwood_hs + poppy_hs,\n",
    "    w = redwood_ws + poppy_ws,\n",
    "    img_urls = redwood_urls + poppy_urls,\n",
    "    oval_x = [(i + (redwood_w/2)) for i in redwood_x] + [(i + (poppy_w/2)) for i in poppy_x],\n",
    "    oval_y = [(i - (redwood_h/2)) for i in redwood_y] + [(i - (poppy_h/2)) for i in poppy_y],\n",
    "    oval_h = [h * 1.5 for h in (redwood_hs+poppy_hs)],\n",
    "    oval_w = [w * 1.5 for w in (redwood_ws+poppy_ws)]\n",
    "))"
   ]
  },
  {
   "cell_type": "code",
   "execution_count": 7,
   "metadata": {},
   "outputs": [],
   "source": [
    "# background_x=[]\n",
    "# for i in range(0,100):\n",
    "#     for j in range(0,100):\n",
    "#         background_x.append(i)\n",
    "# background_y=list(range(0,100)) *100\n",
    "# source = ColumnDataSource(data=dict(\n",
    "#     x=([x / xr for x in background_x]),\n",
    "#     y=([y / yr for y in background_y])\n",
    "# ))\n",
    "# print(source.data)"
   ]
  },
  {
   "cell_type": "code",
   "execution_count": 8,
   "metadata": {},
   "outputs": [],
   "source": [
    "# Aggregation Section\n",
    "\n",
    "text_source = ColumnDataSource(dict(\n",
    "    x=      [about_x, research_x], \n",
    "    y=      [about_y, research_y], \n",
    "    h=      [about_h, research_h],\n",
    "    w=      [about_w, research_w],\n",
    "    url=   [\"assets/images/about.png\",\n",
    "           \"assets/images/research.png\"],\n",
    "    web_url = [\"/about\",\"/research\"],\n",
    "    x_start=[i*xr for i in [0, 0]],\n",
    "    x_end=  [i*xr for i in [.3, .3]],\n",
    "    y_start=[i*yr for i in [.475, 0]],\n",
    "    y_end=  [i*yr for i in [1, .475]],\n",
    "    oval_x = [about_x + .035*xr, research_x + research_w*.5],\n",
    "    oval_y = [about_y - .03*yr, research_y - .03*yr], \n",
    "    oval_h = [about_h * 1.5, research_h * 1.5],\n",
    "    oval_w = [about_w * 1.5, research_w * 1.5]\n",
    "))\n",
    "\n",
    "#return_source place in topleft of each quadrant and only appear at certain zoom level"
   ]
  },
  {
   "cell_type": "code",
   "execution_count": 9,
   "metadata": {
    "scrolled": true
   },
   "outputs": [],
   "source": [
    "# hover = HoverTool(tooltips= None)\n",
    "\n",
    "hover = HoverTool(\n",
    "    tooltips= [\n",
    "        (\"index\", \"$index\"),\n",
    "        (\"data (using $) (x,y)\", \"($x, $y)\")\n",
    "    ]\n",
    ")\n",
    "\n",
    "# TOOLS = [\"wheel_zoom\",'pan', hover, \"tap\"]\n",
    "\n",
    "# Let's exclude wheel_zoom and pan for now, we'll do a hybrid idea where \n",
    "# you can access some links from fullscreen and it just links to pages\n",
    "TOOLS = [hover, \"tap\"]\n",
    "\n",
    "p = figure(\n",
    "    width=xr,\n",
    "    height=yr,\n",
    "    title=\"\", \n",
    "    x_range=Range1d(0, xr, bounds=\"auto\"), \n",
    "    y_range=Range1d(0, yr, bounds=\"auto\"),\n",
    "    tools=TOOLS, \n",
    "#     active_scroll=\"wheel_zoom\",\n",
    "    sizing_mode='stretch_both'\n",
    ")\n",
    "p.axis.visible = False\n",
    "p.toolbar_location = None\n",
    "p.toolbar.logo = None\n",
    "\n",
    "# For linking images\n",
    "# url = \"@web_url\" #'color' is the name of a list within columndatasource\n",
    "taptool = p.select(type=TapTool)\n",
    "taptool.callback = OpenURL(url='@web_url',same_tab=True)\n"
   ]
  },
  {
   "cell_type": "code",
   "execution_count": 10,
   "metadata": {},
   "outputs": [
    {
     "data": {
      "text/html": [
       "<div style=\"display: table;\"><div style=\"display: table-row;\"><div style=\"display: table-cell;\"><b title=\"bokeh.models.renderers.GlyphRenderer\">GlyphRenderer</b>(</div><div style=\"display: table-cell;\">id&nbsp;=&nbsp;'1061', <span id=\"1064\" style=\"cursor: pointer;\">&hellip;)</span></div></div><div class=\"1063\" style=\"display: none;\"><div style=\"display: table-cell;\"></div><div style=\"display: table-cell;\">data_source&nbsp;=&nbsp;ColumnDataSource(id='1002', ...),</div></div><div class=\"1063\" style=\"display: none;\"><div style=\"display: table-cell;\"></div><div style=\"display: table-cell;\">glyph&nbsp;=&nbsp;ImageURL(id='1059', ...),</div></div><div class=\"1063\" style=\"display: none;\"><div style=\"display: table-cell;\"></div><div style=\"display: table-cell;\">hover_glyph&nbsp;=&nbsp;None,</div></div><div class=\"1063\" style=\"display: none;\"><div style=\"display: table-cell;\"></div><div style=\"display: table-cell;\">js_event_callbacks&nbsp;=&nbsp;{},</div></div><div class=\"1063\" style=\"display: none;\"><div style=\"display: table-cell;\"></div><div style=\"display: table-cell;\">js_property_callbacks&nbsp;=&nbsp;{},</div></div><div class=\"1063\" style=\"display: none;\"><div style=\"display: table-cell;\"></div><div style=\"display: table-cell;\">level&nbsp;=&nbsp;'glyph',</div></div><div class=\"1063\" style=\"display: none;\"><div style=\"display: table-cell;\"></div><div style=\"display: table-cell;\">muted&nbsp;=&nbsp;False,</div></div><div class=\"1063\" style=\"display: none;\"><div style=\"display: table-cell;\"></div><div style=\"display: table-cell;\">muted_glyph&nbsp;=&nbsp;None,</div></div><div class=\"1063\" style=\"display: none;\"><div style=\"display: table-cell;\"></div><div style=\"display: table-cell;\">name&nbsp;=&nbsp;None,</div></div><div class=\"1063\" style=\"display: none;\"><div style=\"display: table-cell;\"></div><div style=\"display: table-cell;\">nonselection_glyph&nbsp;=&nbsp;ImageURL(id='1060', ...),</div></div><div class=\"1063\" style=\"display: none;\"><div style=\"display: table-cell;\"></div><div style=\"display: table-cell;\">selection_glyph&nbsp;=&nbsp;None,</div></div><div class=\"1063\" style=\"display: none;\"><div style=\"display: table-cell;\"></div><div style=\"display: table-cell;\">subscribed_events&nbsp;=&nbsp;[],</div></div><div class=\"1063\" style=\"display: none;\"><div style=\"display: table-cell;\"></div><div style=\"display: table-cell;\">tags&nbsp;=&nbsp;[],</div></div><div class=\"1063\" style=\"display: none;\"><div style=\"display: table-cell;\"></div><div style=\"display: table-cell;\">view&nbsp;=&nbsp;CDSView(id='1062', ...),</div></div><div class=\"1063\" style=\"display: none;\"><div style=\"display: table-cell;\"></div><div style=\"display: table-cell;\">visible&nbsp;=&nbsp;True,</div></div><div class=\"1063\" style=\"display: none;\"><div style=\"display: table-cell;\"></div><div style=\"display: table-cell;\">x_range_name&nbsp;=&nbsp;'default',</div></div><div class=\"1063\" style=\"display: none;\"><div style=\"display: table-cell;\"></div><div style=\"display: table-cell;\">y_range_name&nbsp;=&nbsp;'default')</div></div></div>\n",
       "<script>\n",
       "(function() {\n",
       "  var expanded = false;\n",
       "  var ellipsis = document.getElementById(\"1064\");\n",
       "  ellipsis.addEventListener(\"click\", function() {\n",
       "    var rows = document.getElementsByClassName(\"1063\");\n",
       "    for (var i = 0; i < rows.length; i++) {\n",
       "      var el = rows[i];\n",
       "      el.style.display = expanded ? \"none\" : \"table-row\";\n",
       "    }\n",
       "    ellipsis.innerHTML = expanded ? \"&hellip;)\" : \"&lsaquo;&lsaquo;&lsaquo;\";\n",
       "    expanded = !expanded;\n",
       "  });\n",
       "})();\n",
       "</script>\n"
      ],
      "text/plain": [
       "GlyphRenderer(id='1061', ...)"
      ]
     },
     "execution_count": 10,
     "metadata": {},
     "output_type": "execute_result"
    }
   ],
   "source": [
    "oval_color = \"#FFFFFF\" #\"#1D91C0\"\n",
    "p.image_url(url=['assets/images/Background.svg'], \n",
    "            x=(xr/2), y=(yr/2), w=xr, h=yr, anchor=\"center\")\n",
    "# p.image_url(url='img_urls', x='x', y='y', \n",
    "#             h=redwood_h, w=redwood_w, \n",
    "#             source=redwood_source)\n",
    "\n",
    "# p.image_url(url='img_urls', x='x', y='y', \n",
    "#             h=poppy_h, w=poppy_w, \n",
    "#             source=poppy_source)\n",
    "# p.oval(x='oval_x', y='oval_y', source=redwood_source, \n",
    "#        width=redwood_w*1.5, height=redwood_h*1.5, \n",
    "#        color=oval_color, hover_alpha=.4, alpha=0)\n",
    "\n",
    "# p.image_url(url='img_urls', x='x', y='y', \n",
    "#             h=poppy_h, w=poppy_w, \n",
    "#             source=poppy_source)\n",
    "# p.oval(x='oval_x', y='oval_y', source=poppy_source, \n",
    "#        width=poppy_w*1.5, height=poppy_h*1.5, \n",
    "#        color=oval_color, hover_alpha=.4, alpha=0)\n",
    "\n",
    "p.image_url(url='img_urls', x='x', y='y', \n",
    "            h='h', w='w', \n",
    "            source=plant_source)\n",
    "p.oval(x='oval_x', y='oval_y', source=plant_source, \n",
    "       width='oval_w', height='oval_h', \n",
    "       color=oval_color, hover_alpha=.4, alpha=0)\n",
    "\n",
    "\n",
    "\n",
    "p.oval(x='oval_x', y='oval_y', source=text_source, \n",
    "       width='oval_w', height='oval_h', \n",
    "       color=oval_color, hover_alpha=.4, alpha=0)\n",
    "p.image_url(url='url',x='x',y='y',h='h',w='w',global_alpha=1, source=text_source)\n",
    "\n",
    "\n",
    "# p.circle('x','y',source=source,size=1,color='white')\n"
   ]
  },
  {
   "cell_type": "code",
   "execution_count": 11,
   "metadata": {},
   "outputs": [],
   "source": [
    "output_file('index.html')\n",
    "show(p)"
   ]
  },
  {
   "cell_type": "code",
   "execution_count": 12,
   "metadata": {},
   "outputs": [],
   "source": [
    "# Callback zoom works! but you need a button underneath\n",
    "\n",
    "# callback = CustomJS(args=dict(source=text_source,xr=p.x_range,yr=p.y_range), code=\"\"\"\n",
    "#     var data = source.data;\n",
    "#     console.log(source.data);\n",
    "\n",
    "#     // Get indices array of all selected items\n",
    "#     var selected = source.selected.indices;\n",
    "#     console.log(selected);\n",
    "#     console.log(data[\"x_end\"][selected[0]])\n",
    "#     if(selected.length==1){\n",
    "#         xr.start = data[\"x_start\"][selected[0]];\n",
    "#         xr.end = data[\"x_end\"][selected[0]];\n",
    "#         yr.start = data[\"y_start\"][selected[0]];\n",
    "#         yr.end = data[\"y_end\"][selected[0]];\n",
    "#     }\n",
    "    \n",
    "# \"\"\")\n",
    "# p.js_on_event('tap', callback)"
   ]
  }
 ],
 "metadata": {
  "kernelspec": {
   "display_name": "Python 3",
   "language": "python",
   "name": "python3"
  },
  "language_info": {
   "codemirror_mode": {
    "name": "ipython",
    "version": 3
   },
   "file_extension": ".py",
   "mimetype": "text/x-python",
   "name": "python",
   "nbconvert_exporter": "python",
   "pygments_lexer": "ipython3",
   "version": "3.7.3"
  }
 },
 "nbformat": 4,
 "nbformat_minor": 2
}
